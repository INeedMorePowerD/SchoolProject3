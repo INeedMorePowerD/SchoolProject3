{
  "nbformat": 4,
  "nbformat_minor": 0,
  "metadata": {
    "colab": {
      "provenance": []
    },
    "kernelspec": {
      "name": "python3",
      "display_name": "Python 3"
    },
    "language_info": {
      "name": "python"
    }
  },
  "cells": [
    {
      "cell_type": "code",
      "execution_count": 16,
      "metadata": {
        "colab": {
          "base_uri": "https://localhost:8080/"
        },
        "id": "xVDGFahfKptC",
        "outputId": "dc5d4350-d9db-4983-bb73-4931dfedeab6"
      },
      "outputs": [
        {
          "output_type": "stream",
          "name": "stdout",
          "text": [
            "Qual seu nome de usuário: admin\n",
            "Qual sua senha: admin\n",
            "você entrou na sua conta\n",
            "escolha uma das opções: \n",
            "1-Cadastro direto\n",
            "2-Cadastro de aluno\n",
            "3-Cadastro de professor\n",
            "4-Calculadora\n",
            "selecione uma das opções: 1\n",
            "Qual seu nome de usuário: anus[\n",
            "Qual sua senha: sla\n",
            "Qual o seu ID: 1234\n",
            "usuário cadastrado: anus[, senha cadastrada: sla, id cadastrado: 1234\n"
          ]
        }
      ],
      "source": [
        "login = (str(input(\"Qual seu nome de usuário: \")))\n",
        "senha = (str(input(\"Qual sua senha: \")))\n",
        "\n",
        "if login == (\"admin\") and senha == (\"admin\"):\n",
        "  print(\"você entrou na sua conta\")\n",
        "  print(\"escolha uma das opções: \")\n",
        "  print(\"1-Cadastro direto\")\n",
        "  print(\"2-Cadastro de aluno\")\n",
        "  print(\"3-Cadastro de professor\")\n",
        "  print(\"4-Calculadora\")\n",
        "  user = int(input(\"selecione uma das opções: \"))\n",
        "  if user == 1:\n",
        "    login1 = (str(input(\"Qual seu nome de usuário: \")))\n",
        "    senha1 = (str(input(\"Qual sua senha: \")))\n",
        "    id = (int(input(\"Qual o seu ID: \")))\n",
        "    print(f\"usuário cadastrado: {login1}, senha cadastrada: {senha1}, id cadastrado: {id}\")\n",
        "  elif user == 2:\n",
        "      login2 = (str(input(\"Qual seu nome de usuário: \")))\n",
        "      matéria = (str(input(\"Qual sua matéria: \")))\n",
        "      senha2 = (str(input(\"Qual sua senha: \")))\n",
        "      ano = (int(input(\"Qual o seu Ano: \")))\n",
        "      print(f\"usuário cadastrado: {login2}, senha cadastrada: {senha2}, ano cadastrado: {ano}, matéria cadastrada: {matéria}\")\n",
        "  elif user == 3:\n",
        "      login3 = (str(input(\"Qual seu nome de usuário: \")))\n",
        "      senha3 = (str(input(\"Qual sua senha: \")))\n",
        "      id = (int(input(\"Qual o seu ID: \")))\n",
        "      matéria-lecionada == (str(input(\"qual matéria você ministra: \")))\n",
        "      print(f\"usuário cadastrado: {login3}, senha cadastrada: {senha3}, id cadastrado: {id}, matéria cadastrada: {matéria-lecionada}\")\n",
        "  elif user == 4:\n",
        "      print(\"selecione a operação desejada:\")\n",
        "      print(\"1. Adição\")\n",
        "      print(\"2. Substração\")\n",
        "      print(\"3. Multiplicação\")\n",
        "      print(\"4. Divisão\")\n",
        "\n",
        "      opcao = input(\"Digite o número da operação desejada (1/2/3/4):\")\n",
        "\n",
        "      numero1 = float(input(\"Digite o primeiro número:\"))\n",
        "      numero2 = float(input(\"Digite o segundo número:\"))\n",
        "\n",
        "      if opcao == '1':\n",
        "        resultado = numero1 + numero2\n",
        "        print(\"Resultado\", resultado)\n",
        "      elif opcao == '2':\n",
        "          resultado = numero1 - numero2\n",
        "          print(\"Resultado\", resultado)\n",
        "      elif opcao == '3':\n",
        "          resultado = numero1 * numero2\n",
        "          print(\"Resultado\", resultado)\n",
        "      elif opcao == '4':\n",
        "          if numero2 != 0:\n",
        "             resultado = numero1 / numero2\n",
        "             print(\"Resultado\", resultado)\n",
        "          else:\n",
        "               print(\"Erro: Divisão por zero!\")"
      ]
    }
  ]
}