{
  "nbformat": 4,
  "nbformat_minor": 0,
  "metadata": {
    "colab": {
      "provenance": [],
      "authorship_tag": "ABX9TyPLsEJ9+z8SN6veBZLXKk46",
      "include_colab_link": true
    },
    "kernelspec": {
      "name": "python3",
      "display_name": "Python 3"
    },
    "language_info": {
      "name": "python"
    }
  },
  "cells": [
    {
      "cell_type": "markdown",
      "metadata": {
        "id": "view-in-github",
        "colab_type": "text"
      },
      "source": [
        "<a href=\"https://colab.research.google.com/github/INeedMorePowerD/SchoolProject3/blob/main/projeto%20do%20colegioipynb\" target=\"_parent\"><img src=\"https://colab.research.google.com/assets/colab-badge.svg\" alt=\"Open In Colab\"/></a>"
      ]
    },
    {
      "cell_type": "code",
      "source": [
        "usuarios = ['Ossudo', 'XiangLing', 'Ishowspeed', 'Megumi', 'Faputa']\n",
        "senhas = ['adoro-bolacha', 'gouba', 'nigganey', 'COM ESSE TESOURO EU INVOCO', 'sosu']\n",
        "\n",
        "print(usuarios)\n",
        "print(senhas)\n",
        "\n",
        "login = str(input(\"Digite seu usuário: \"))\n",
        "senha = str(input(\"Digite sua senha: \"))\n",
        "\n",
        "if login == (usuarios[0]) and senha == (senhas[0]):\n",
        "  print(\"Entrando como Ossudo\")\n",
        "\n",
        "elif login == (usuarios[1]) and senha == (senhas[1]):\n",
        "  print(\"Entrando como Xiangling\")\n",
        "\n",
        "elif login == (usuarios[2]) and senha == (senhas[2]):\n",
        "  print(\"Entrando como Ishowspeed\")\n",
        "\n",
        "elif login == (usuarios[3]) and senha == (senhas[3]):\n",
        "  print(\"Entrando como Megumi\")\n",
        "\n",
        "elif login == (usuarios[4]) and senha == (senhas[4]):\n",
        "  print(\"Entrando como Faputa\")\n",
        "\n",
        "else:\n",
        "   print(\"usuário e senha errados\")"
      ],
      "metadata": {
        "colab": {
          "base_uri": "https://localhost:8080/"
        },
        "id": "6jeNGeoUZ4IQ",
        "outputId": "a6305088-cf88-47e3-b12c-6dcf8dbbf54f"
      },
      "execution_count": 15,
      "outputs": [
        {
          "output_type": "stream",
          "name": "stdout",
          "text": [
            "['Ossudo', 'XiangLing', 'Ishowspeed', 'Megumi', 'Faputa']\n",
            "['adoro-bolacha', 'gouba', 'nigganey', 'COM ESSE TESOURO EU INVOCO', 'sosu']\n",
            "Digite seu usuário: Megumi\n",
            "Digite sua senha: COM ESSE TESOURO EU INVOCO\n",
            "Entrando como Megumi\n"
          ]
        }
      ]
    }
  ]
}